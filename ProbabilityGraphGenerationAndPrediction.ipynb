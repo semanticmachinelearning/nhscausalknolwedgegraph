{
 "cells": [
  {
   "cell_type": "code",
   "execution_count": 5,
   "metadata": {},
   "outputs": [],
   "source": [
    "import rdflib\n",
    "from rdflib import Graph, Literal, BNode, Namespace, RDF, URIRef\n",
    "from rdflib.namespace import DC, FOAF\n",
    "import spotlight\n",
    "import urllib, json\n",
    "import pandas as pd\n",
    "from collections import Counter\n",
    "import os"
   ]
  },
  {
   "cell_type": "code",
   "execution_count": 6,
   "metadata": {},
   "outputs": [],
   "source": [
    "# load the graph\n",
    "g = rdflib.Graph()\n",
    "result = g.parse('kgraph215.ttl', format='turtle')\n",
    "\n",
    "# setting self-namespaces \n",
    "cn = Namespace(\"http://ai.symptomchecking.org/condtion/\")\n",
    "dbpn = \"http://dbpedia.org/resource/\"\n",
    "symptomOf = URIRef(cn.symptomOf)\n",
    "linksTo = URIRef(cn.linkTo)\n",
    "signOf = URIRef(cn.signOf)\n",
    "anatomicOn = URIRef(cn.anatomicOn)\n",
    "drug = URIRef(cn.drugTo)\n",
    "cause = URIRef(cn.causes)\n",
    "prob = URIRef(cn.hasProbability)\n",
    "\n",
    "# define useful classes\n",
    "disease = URIRef('http://dbpedia.org/ontology/Disease')\n",
    "drug = URIRef('http://dbpedia.org/ontology/Drug')\n",
    "symp = URIRef('http://dbpedia.org/resource/Category:Symptoms_and_signs')\n",
    "anat = URIRef('http://dbpedia.org/ontology/AnatomicalStructure')"
   ]
  },
  {
   "cell_type": "code",
   "execution_count": 7,
   "metadata": {},
   "outputs": [],
   "source": [
    "# import pandas as pd"
   ]
  },
  {
   "cell_type": "code",
   "execution_count": null,
   "metadata": {},
   "outputs": [],
   "source": []
  },
  {
   "cell_type": "code",
   "execution_count": 8,
   "metadata": {},
   "outputs": [],
   "source": [
    "def ranking_result(pdfs):\n",
    "    sparl_Ranking(pdfs)\n",
    "    ranking = pdfs.groupby('Disease')\n",
    "    finalranking = ranking.sum().sort_values(by ='Probability', ascending=False )\n",
    "    fr = finalranking.apply(calculate,axis=1)\n",
    "    return fr.head(15)"
   ]
  },
  {
   "cell_type": "code",
   "execution_count": null,
   "metadata": {},
   "outputs": [],
   "source": []
  },
  {
   "cell_type": "code",
   "execution_count": 9,
   "metadata": {},
   "outputs": [],
   "source": [
    "def calculate(row):\n",
    "    return row['Probability']/4"
   ]
  },
  {
   "cell_type": "code",
   "execution_count": 29,
   "metadata": {},
   "outputs": [],
   "source": [
    "def sparl_Ranking(pdfs):\n",
    "    for ix in s:\n",
    "        sym_value = ix.replace(' ','_')\n",
    "        queryi = dbpn+sym_value\n",
    "        querystring = \"SELECT DISTINCT ?d ?p WHERE {\"\n",
    "        querystring =  querystring+\"{?d <\"+prob+\"> ?p} .}\"\n",
    "        sdg1=Graph()\n",
    "        #print querystring\n",
    "        gresult = sdg1.parse('dpbkg1.ttl', format='turtle')\n",
    "        qres = sdg1.query(querystring)\n",
    "        i=0\n",
    "        for row in qres:\n",
    "            d = str(row.asdict()['d'].toPython())\n",
    "            p = float(str(row.asdict()['p'].toPython()).split(':')[1])\n",
    "            pdfs.loc[i]=[d]+[p]\n",
    "            i=i+1\n",
    "    return pdfs"
   ]
  },
  {
   "cell_type": "code",
   "execution_count": null,
   "metadata": {},
   "outputs": [],
   "source": []
  },
  {
   "cell_type": "code",
   "execution_count": 11,
   "metadata": {},
   "outputs": [],
   "source": [
    "def sparl_signlist(s,sdg):\n",
    "    for ix in s:\n",
    "        sym_value = ix.replace(' ','_')\n",
    "        queryi = dbpn+sym_value\n",
    "        querystring = \"CONSTRUCT {?d <\"+cause+\"> <\"+queryi+\">} WHERE {\"\n",
    "        querystring =  querystring+\"{<\"+queryi+\"> <\"+signOf+\"> ?d} UNION {<\"+queryi+\"> <\"+symptomOf+\"> ?d} .}\"\n",
    "        #print querystring\n",
    "        qres = g.query(querystring)\n",
    "        probv=0\n",
    "        if (len(qres)!=0):\n",
    "            probv = Literal(sym_value+\":\"+str(1.0/float(len(qres))))\n",
    "            #print probv\n",
    "        for row in qres:\n",
    "            #print row[0]\n",
    "            sdg.add(row)\n",
    "            sdg.add((row[0], prob, probv))\n",
    "    return \"1\""
   ]
  },
  {
   "cell_type": "markdown",
   "metadata": {},
   "source": []
  },
  {
   "cell_type": "code",
   "execution_count": 12,
   "metadata": {},
   "outputs": [],
   "source": [
    "def sparl_signmap(s,sdg):\n",
    "    for ix in s:\n",
    "        sym_value = ix.replace(' ','_')\n",
    "        queryi = dbpn+sym_value\n",
    "        querystring = \"SELECT DISTINCT ?d WHERE {\"\n",
    "        querystring =  querystring+\"{<\"+queryi+\"> <\"+signOf+\"> ?d} UNION {<\"+queryi+\"> <\"+symptomOf+\"> ?d} .}\"\n",
    "        #print querystring\n",
    "        qres = g.query(querystring)\n",
    "        for row in qres:\n",
    "            d = str(row.asdict()['d'].toPython())\n",
    "            querylinkTo = \"CONSTRUCT {?l <\"+linksTo+\"> <\"+d+\"> }  WHERE {<\"+d+\"> <\"+linksTo+\"> ?l .}\"\n",
    "            qlr = g.query(querylinkTo)\n",
    "            probv=0\n",
    "            if (len(qlr)!=0):\n",
    "                probv = Literal(sym_value+\":\"+str(1.0/(float(len(qlr))*float(len(qres)))))\n",
    "                #print probv\n",
    "            for links in qlr:\n",
    "                sdg.add(links)\n",
    "                #print '11'\n",
    "                i_term = URIRef(queryi)\n",
    "                sdg.add((links[0], cause, i_term))\n",
    "                sdg.add((links[0], prob, probv))\n",
    "                #print '12'\n",
    "    return \"1\""
   ]
  },
  {
   "cell_type": "code",
   "execution_count": 13,
   "metadata": {},
   "outputs": [],
   "source": [
    "def sparl_age_gender_dislist(s, sdg):\n",
    "    j=0\n",
    "    querystring = \"SELECT DISTINCT ?d WHERE {\"\n",
    "    for xqi in s:\n",
    "        if (j<len(s)-1):\n",
    "            querystring = querystring + \"{\\\n",
    "            ?d <http://purl.org/dc/elements/1.1/abstract> ?a . FILTER regex(str(?a), '\"+xqi+\"')} UNION {\\\n",
    "            ?d <http://purl.org/dc/elements/1.1/abstract> ?a . FILTER regex(str(?a), '\"+xqi.lower()+\"')} UNION\"\n",
    "        else:\n",
    "            querystring = querystring + \"{\\\n",
    "            ?d <http://purl.org/dc/elements/1.1/abstract> ?a . FILTER regex(str(?a), '\"+xqi+\"')} UNION {\\\n",
    "            ?d <http://purl.org/dc/elements/1.1/abstract> ?a . FILTER regex(str(?a), '\"+xqi.lower()+\"')}\"\n",
    "        j=j+1\n",
    "    querystring = querystring + \"}\"\n",
    "    #print (querystring)\n",
    "    qres = g.query(querystring)\n",
    "    for row in qres:\n",
    "        d = str(row.asdict()['d'].toPython())\n",
    "        querylinkTo = \"CONSTRUCT {<\"+d+\"> <\"+prob+\"> ?l .} WHERE {<\"+d+\"> <\"+prob+\"> ?l .}\"\n",
    "        qlr = sdg.query(querylinkTo)\n",
    "        if (len(qlr)!=0):\n",
    "            #probv = 0.5*(1/(float(len(qlr))))\n",
    "            #print probv\n",
    "            probv = 0.5\n",
    "        for links in qlr:\n",
    "            #sdg.add(links)\n",
    "            #linkv = links[2].split(':')[1]\n",
    "            #probvl = Literal(\"aggregation:\"+str(float(linkv)+probv))\n",
    "            probvl = Literal(\"ageOrGender:\"+str(probv))\n",
    "            #sdg.remove((links[0],prob, None))\n",
    "            sdg.add((links[0], prob, probvl))\n",
    "    return '1'"
   ]
  },
  {
   "cell_type": "code",
   "execution_count": 14,
   "metadata": {},
   "outputs": [],
   "source": [
    "def sparl_aidiseaselist(s, sdg):\n",
    "    querystring = \"SELECT DISTINCT ?d WHERE {\"\n",
    "    j=0\n",
    "    for ix in s:\n",
    "        queryi = ix.replace(' ','_')\n",
    "        if(j<len(s)-1):\n",
    "            querystring = querystring + \"{?d <\"+anatomicOn+\"> ?a . FILTER regex(str(?a), '\"+queryi+\"')} UNION {?d <\"+anatomicOn+\"> ?a . FILTER regex(str(?a), '\"+queryi.lower()+\"')} UNION \"\n",
    "        else:\n",
    "            querystring = querystring + \"{?d <\"+anatomicOn+\"> ?a . FILTER regex(str(?a), '\"+queryi+\"')} UNION {?d <\"+anatomicOn+\"> ?a . FILTER regex(str(?a), '\"+queryi.lower()+\"')} .\"\n",
    "        j=j+1\n",
    "    querystring = querystring+\"}\"\n",
    "    qres = g.query(querystring)\n",
    "    for row in qres:\n",
    "        d = str(row.asdict()['d'].toPython())\n",
    "        querylinkTo = \"CONSTRUCT {<\"+d+\"> <\"+prob+\"> ?l .} WHERE {<\"+d+\"> <\"+prob+\"> ?l .}\"\n",
    "        qlr = sdg.query(querylinkTo)\n",
    "        if (len(qlr)!=0 and len(qres)!=0):\n",
    "            lens = len(qlr)+len(qres)\n",
    "            probv = 1.00/float(lens)\n",
    "            #print probv\n",
    "        for links in qlr:\n",
    "            #sdg.add(links)\n",
    "            #linkv = links[2].split(':')[1]\n",
    "            #probvl = Literal(\"aggregation:\"+str(float(linkv)+probv))\n",
    "            probvl = Literal(\"position:\"+str(probv))\n",
    "            sdg.add((links[0], prob, probvl))\n",
    "    return \"1\""
   ]
  },
  {
   "cell_type": "code",
   "execution_count": null,
   "metadata": {},
   "outputs": [],
   "source": []
  },
  {
   "cell_type": "code",
   "execution_count": 15,
   "metadata": {},
   "outputs": [],
   "source": [
    "def dpbkg_generation(sdg):\n",
    "    filepath='dpbkg1.ttl'\n",
    "    sdg.serialize(destination=filepath, format='turtle')\n",
    "    return sdg"
   ]
  },
  {
   "cell_type": "code",
   "execution_count": 16,
   "metadata": {},
   "outputs": [],
   "source": [
    "s = [' Baby',' Boy ', ' Boys ',' Girl',' Girls','Children',' Child','Infant','Teenager','Youngster','Youth', 'childhood']\n",
    "s1 = [' Over 60 years old','Elderly']\n",
    "s2 = [' Man ',' Men ',' Boy ',' Males ']\n",
    "s3 = [' Woman ',' Women ']\n",
    "s4 = [' Woman ',' Women ', 'Than males', 'Than men', 'Women are affected', 'Females are affected', 'Most often in females', 'and females', 'infected female', 'infected females']\n",
    "s5 = ['Middle age']"
   ]
  },
  {
   "cell_type": "code",
   "execution_count": 17,
   "metadata": {},
   "outputs": [],
   "source": [
    "def agebased_diseasegraph(para_age,sdg):\n",
    "    if(para_age==0):\n",
    "        sparl_age_gender_dislist(s,sdg)\n",
    "    elif (para_age==1):\n",
    "        \n",
    "        sparl_age_gender_dislist(s5,sdg)\n",
    "    elif (para_age==2):\n",
    "        \n",
    "        sparl_age_gender_dislist(s1,sdg)\n",
    "    return \"1\""
   ]
  },
  {
   "cell_type": "code",
   "execution_count": 18,
   "metadata": {},
   "outputs": [],
   "source": [
    "def sexbased_diseasegraph(para_age,sdg):\n",
    "    if(para_age==0):\n",
    "        sparl_age_gender_dislist(s2,sdg)\n",
    "    elif (para_age==1):\n",
    "        sparl_age_gender_dislist(s4,sdg)\n",
    "    return \"1\""
   ]
  },
  {
   "cell_type": "code",
   "execution_count": 19,
   "metadata": {},
   "outputs": [],
   "source": [
    "def causalr(q1,q2,g,a):\n",
    "    sdg = Graph()\n",
    "    sparl_signlist(q1,sdg)\n",
    "    sparl_signmap(q1,sdg)\n",
    "    sparl_aidiseaselist(q2,sdg)\n",
    "    #dpbkg_generation()\n",
    "    agebased_diseasegraph(a,sdg)\n",
    "    #dpbkg_generation()\n",
    "    sexbased_diseasegraph(g,sdg)\n",
    "    dpbkg_generation(sdg)\n",
    "    return sdg"
   ]
  },
  {
   "cell_type": "code",
   "execution_count": null,
   "metadata": {},
   "outputs": [],
   "source": []
  },
  {
   "cell_type": "code",
   "execution_count": 34,
   "metadata": {},
   "outputs": [],
   "source": [
    "testdf = pd.read_csv('testdata1.csv', encoding='utf-8')"
   ]
  },
  {
   "cell_type": "code",
   "execution_count": 22,
   "metadata": {},
   "outputs": [],
   "source": [
    "def get_position_test(loci):\n",
    "    listP = testdf['Position'][loci].split(',')\n",
    "    listPr = []\n",
    "    for j in range (0,len(listP)):\n",
    "        if j==len(listP)-1 and listP[j].split('/')[-1][-1]==']':\n",
    "            listPr.append(listP[j].split('/')[-1][0:-1])\n",
    "        else:\n",
    "            listPr.append(listP[j].split('/')[-1])\n",
    "    return listPr"
   ]
  },
  {
   "cell_type": "code",
   "execution_count": 23,
   "metadata": {},
   "outputs": [],
   "source": [
    "def get_sym_test(loci):\n",
    "    listS = testdf['Symptom'][loci].split(',')\n",
    "    listSr = []\n",
    "    for j in range (0,len(listS)):\n",
    "        if j==len(listS)-1 and listS[j].split('/')[-1][-1]==']':\n",
    "            listSr.append(listS[j].split('/')[-1][0:-1])\n",
    "        else:\n",
    "            listSr.append(listS[j].split('/')[-1])\n",
    "    return listSr"
   ]
  },
  {
   "cell_type": "code",
   "execution_count": 24,
   "metadata": {},
   "outputs": [],
   "source": [
    "import time"
   ]
  },
  {
   "cell_type": "code",
   "execution_count": 44,
   "metadata": {},
   "outputs": [],
   "source": [
    "acc_val = []\n",
    "tri_siz = []\n",
    "acc_tim = []"
   ]
  },
  {
   "cell_type": "code",
   "execution_count": 50,
   "metadata": {},
   "outputs": [
    {
     "name": "stdout",
     "output_type": "stream",
     "text": [
      "http://ai.symptomchecking.org/condtion/Obesity\n",
      "0\n",
      "130 : 8.70519590378\n",
      "http://ai.symptomchecking.org/condtion/Obstructive_sleep_apnoea\n",
      "0\n",
      "131 : 4.03303289413\n",
      "http://ai.symptomchecking.org/condtion/Oesophageal_cancer\n",
      "0\n",
      "132 : 6.26655292511\n",
      "http://ai.symptomchecking.org/condtion/Osteoarthritis\n",
      "0\n",
      "133 : 7.29630494118\n",
      "http://ai.symptomchecking.org/condtion/Osteoporosis\n",
      "0\n",
      "134 : 3.54054903984\n",
      "http://ai.symptomchecking.org/condtion/Osteosarcoma\n",
      "1\n",
      "135 : 2.33112597466\n",
      "http://ai.symptomchecking.org/condtion/Otitis_externa\n",
      "0\n",
      "136 : 9.79984903336\n",
      "http://ai.symptomchecking.org/condtion/Ovarian_cancer\n",
      "0\n",
      "137 : 15.6219291687\n",
      "http://ai.symptomchecking.org/condtion/Overactive_thyroid\n",
      "0\n",
      "138 : 8.47855710983\n",
      "http://ai.symptomchecking.org/condtion/Paget's_disease_of_the_nipple\n",
      "2\n",
      "139 : 2.62915110588\n",
      "http://ai.symptomchecking.org/condtion/Pancreatic_cancer\n",
      "140 : 4.07914400101\n",
      "http://ai.symptomchecking.org/condtion/Parkinson's_disease\n",
      "0\n",
      "141 : 3.42290902138\n",
      "http://ai.symptomchecking.org/condtion/Pelvic_organ_prolapse\n",
      "0\n",
      "142 : 2.16008806229\n",
      "http://ai.symptomchecking.org/condtion/Penile_cancer\n",
      "0\n",
      "143 : 5.31664586067\n",
      "http://ai.symptomchecking.org/condtion/Peripheral_neuropathy\n",
      "0\n",
      "144 : 10.8204879761\n",
      "http://ai.symptomchecking.org/condtion/Pleurisy\n",
      "0\n",
      "145 : 6.35683107376\n",
      "http://ai.symptomchecking.org/condtion/Pneumonia\n",
      "0\n",
      "146 : 15.0194871426\n",
      "http://ai.symptomchecking.org/condtion/Prostate_cancer\n",
      "0\n",
      "147 : 15.9982640743\n",
      "http://ai.symptomchecking.org/condtion/Psoriatic_arthritis\n",
      "0\n",
      "148 : 2.69718194008\n",
      "http://ai.symptomchecking.org/condtion/Retinoblastoma\n",
      "1\n",
      "149 : 3.38300800323\n",
      "http://ai.symptomchecking.org/condtion/Retinoblastoma_Children\n",
      "0\n",
      "150 : 2.86621904373\n",
      "http://ai.symptomchecking.org/condtion/Rheumatoid_arthritis\n",
      "0\n",
      "151 : 7.07431697845\n",
      "http://ai.symptomchecking.org/condtion/Septic_shock\n",
      "0\n",
      "152 : 3.46102690697\n",
      "http://ai.symptomchecking.org/condtion/Shingles\n",
      "0\n",
      "153 : 8.20143508911\n",
      "http://ai.symptomchecking.org/condtion/Sickle_cell_disease\n",
      "0\n",
      "154 : 7.96645498276\n",
      "http://ai.symptomchecking.org/condtion/Sinusitis\n",
      "0\n",
      "155 : 10.6816709042\n",
      "http://ai.symptomchecking.org/condtion/Slapped_cheek_syndrome\n",
      "0\n",
      "156 : 3.68654203415\n",
      "http://ai.symptomchecking.org/condtion/Soft_tissue_sarcomas\n",
      "1\n",
      "157 : 6.13311910629\n",
      "http://ai.symptomchecking.org/condtion/Soft_tissue_sarcomas_Teenagers_and_young_adults\n",
      "1\n",
      "158 : 12.8317680359\n",
      "http://ai.symptomchecking.org/condtion/Sore_throat\n",
      "159 : 4.71083378792\n",
      "http://ai.symptomchecking.org/condtion/Stillbirth\n",
      "0\n",
      "160 : 6.48178195953\n",
      "http://ai.symptomchecking.org/condtion/Stomach_cancer\n",
      "0\n",
      "161 : 11.5591268539\n",
      "http://ai.symptomchecking.org/condtion/Stomach_ulcer\n",
      "0\n",
      "162 : 5.75040698051\n",
      "http://ai.symptomchecking.org/condtion/Stroke\n",
      "0\n",
      "163 : 2.55856895447\n",
      "http://ai.symptomchecking.org/condtion/Sunburn\n",
      "0\n",
      "164 : 2.37660002708\n",
      "http://ai.symptomchecking.org/condtion/Swollen_glands\n",
      "0\n",
      "165 : 5.25894594193\n",
      "http://ai.symptomchecking.org/condtion/Testicular_cancer\n",
      "0\n",
      "166 : 3.71929001808\n",
      "http://ai.symptomchecking.org/condtion/Thirst\n",
      "0\n",
      "167 : 4.01082897186\n",
      "http://ai.symptomchecking.org/condtion/Thyroid_cancer\n",
      "0\n",
      "168 : 4.51054692268\n",
      "http://ai.symptomchecking.org/condtion/Tonsillitis\n",
      "0\n",
      "169 : 8.38982510567\n",
      "http://ai.symptomchecking.org/condtion/Tooth_decay\n",
      "0\n",
      "170 : 3.50083303452\n",
      "http://ai.symptomchecking.org/condtion/Toothache\n",
      "0\n",
      "171 : 5.50307607651\n",
      "http://ai.symptomchecking.org/condtion/Trigeminal_neuralgia\n",
      "0\n",
      "172 : 3.23948001862\n",
      "http://ai.symptomchecking.org/condtion/Type_1_diabetes\n",
      "0\n",
      "173 : 5.32217788696\n",
      "http://ai.symptomchecking.org/condtion/Type_2_diabetes\n",
      "0\n",
      "174 : 4.2887160778\n",
      "http://ai.symptomchecking.org/condtion/Underactive_thyroid\n",
      "0\n",
      "175 : 7.01717782021\n",
      "http://ai.symptomchecking.org/condtion/Urinary_incontinence\n",
      "0\n",
      "176 : 2.9917550087\n",
      "http://ai.symptomchecking.org/condtion/Vaginal_cancer\n",
      "4\n",
      "177 : 2.4649450779\n",
      "http://ai.symptomchecking.org/condtion/Vaginal_thrush\n",
      "0\n",
      "178 : 4.22163105011\n",
      "http://ai.symptomchecking.org/condtion/Varicose_eczema\n",
      "0\n",
      "179 : 3.32768678665\n",
      "http://ai.symptomchecking.org/condtion/Varicose_veins\n",
      "0\n",
      "180 : 6.36181616783\n",
      "http://ai.symptomchecking.org/condtion/Venous_leg_ulcer\n",
      "0\n",
      "181 : 3.04121303558\n",
      "http://ai.symptomchecking.org/condtion/Vulval_cancer\n",
      "0\n",
      "182 : 6.23341798782\n",
      "http://ai.symptomchecking.org/condtion/Yellow_fever\n",
      "0\n",
      "183 : 6.00205516815\n",
      "[100.0, 100.0, 100.0, 100.0, 100.0, 50.0, 100.0, 100.0, 50.0, 50.0, 100.0, 100.0, 100.0, 100.0, 0.0, 100.0, 100.0, 100.0, 100.0, 100.0, 7.142857142857143, 7.142857142857143, 100.0, 100.0, 100.0, 0.0, 7.6923076923076925, 100.0, 14.285714285714286, 100.0, 50.0, 100.0, 100.0, 100.0, 100.0, 100.0, 100.0, 100.0, 100.0, 7.142857142857143, 100.0, 100.0, 100.0, 50.0, 100.0, 100.0, 100.0, 100.0, 100.0, 100.0, 100.0, 100.0, 100.0, 100.0, 100.0, 100.0, 100.0, 100.0, 100.0, 100.0, 100.0, 100.0, 0.0, 100.0, 100.0, 100.0, 100.0, 100.0, 100.0, 100.0, 100.0, 100.0, 100.0, 100.0, 100.0, 100.0, 100.0, 0.0, 100.0, 100.0, 100.0, 100.0, 100.0, 100.0, 100.0, 100.0, 100.0, 100.0, 100.0, 100.0, 50.0, 100.0, 100.0, 100.0, 100.0, 100.0, 100.0, 100.0, 100.0, 100.0, 100.0, 100.0, 100.0, 100.0, 100.0, 100.0, 100.0, 100.0, 100.0, 100.0, 100.0, 100.0, 100.0, 100.0, 100.0, 100.0, 100.0, 100.0, 100.0, 100.0, 100.0, 100.0, 100.0, 100.0, 100.0, 100.0, 100.0, 100.0, 100.0, 0.0, 100.0, 100.0, 100.0, 100.0, 100.0, 100.0, 100.0, 100.0, 100.0, 50.0, 0.0, 100.0, 100.0, 100.0, 100.0, 100.0, 100.0, 100.0, 100.0, 100.0, 100.0, 100.0, 100.0, 100.0, 100.0, 100.0, 100.0, 100.0, 100.0, 0.0, 100.0, 100.0, 100.0, 100.0, 100.0, 100.0, 100.0, 100.0, 100.0, 100.0, 100.0, 100.0, 100.0, 100.0, 100.0, 100.0, 100.0, 50.0, 100.0, 100.0, 100.0, 100.0, 100.0, 100.0]\n",
      "[382, 139, 175, 39, 526, 346, 192, 340, 35, 38, 350, 61, 427, 501, 193, 331, 56, 386, 789, 201, 154, 147, 502, 482, 231, 169, 192, 380, 59, 499, 61, 1175, 310, 497, 604, 34, 134, 14, 73, 124, 102, 551, 296, 252, 124, 173, 24, 37, 444, 139, 138, 435, 202, 258, 625, 175, 278, 156, 833, 53, 47, 229, 223, 396, 337, 617, 213, 295, 180, 60, 108, 396, 530, 91, 28, 135, 308, 0, 127, 24, 64, 101, 70, 50, 196, 517, 289, 210, 417, 54, 307, 403, 429, 144, 69, 207, 67, 268, 28, 256, 124, 5, 541, 25, 516, 681, 65, 256, 10, 141, 46, 773, 254, 22, 230, 294, 618, 472, 575, 132, 265, 253, 163, 816, 309, 51, 193, 68, 50, 243, 602, 140, 218, 428, 184, 55, 646, 1158, 433, 41, 183, 93, 28, 103, 691, 195, 1164, 1238, 37, 51, 85, 478, 127, 484, 511, 608, 187, 327, 599, 266, 398, 589, 284, 81, 41, 210, 171, 124, 200, 467, 31, 265, 132, 272, 121, 477, 30, 65, 178, 63, 309, 49, 221, 240]\n"
     ]
    }
   ],
   "source": [
    "for i in range (130,len(testdf['Age'])):\n",
    "    start = time.time()\n",
    "    sp = get_sym_test(i)\n",
    "    pp = get_position_test(i)\n",
    "    if testdf['Age'][i]=='Yong': \n",
    "        ap = 0\n",
    "    elif testdf['Age'][i]=='Elder':\n",
    "        ap = 2\n",
    "    else:\n",
    "        ap = 1\n",
    "    if testdf['Gen'][i]=='female':\n",
    "        gp = 1\n",
    "    else:\n",
    "        gp = 0\n",
    "    pdfs= pd.DataFrame(columns=['Disease','Probability'])\n",
    "    os.remove('dpbkg1.ttl')\n",
    "    cpdlgraph=causalr(sp, pp, gp, ap)\n",
    "    outputr = ranking_result(pdfs)\n",
    "    avflag = 0.0\n",
    "    print testdf['Disease'][i]\n",
    "    for k in range (0,len(outputr)):\n",
    "        if outputr.index[k] == testdf['Disease'][i] and avflag ==0.00:\n",
    "            print k\n",
    "            if k<=1:\n",
    "                avflag = 100.00\n",
    "            elif 1<k<=5:\n",
    "                avflag = 50.00\n",
    "            elif k>5:\n",
    "                avflag = 100.00/(k+1)\n",
    "    end = time.time()\n",
    "    acc_tim.append((end - start))\n",
    "    acc_val.append(avflag) \n",
    "    tri_siz.append(len(cpdlgraph))\n",
    "    print i,':',end - start\n",
    "print acc_val\n",
    "print tri_siz"
   ]
  },
  {
   "cell_type": "code",
   "execution_count": 57,
   "metadata": {},
   "outputs": [
    {
     "data": {
      "text/plain": [
       "[382,\n",
       " 139,\n",
       " 175,\n",
       " 39,\n",
       " 526,\n",
       " 346,\n",
       " 192,\n",
       " 340,\n",
       " 35,\n",
       " 38,\n",
       " 350,\n",
       " 61,\n",
       " 427,\n",
       " 501,\n",
       " 193,\n",
       " 331,\n",
       " 56,\n",
       " 386,\n",
       " 789,\n",
       " 201,\n",
       " 154,\n",
       " 147,\n",
       " 502,\n",
       " 482,\n",
       " 231,\n",
       " 169,\n",
       " 192,\n",
       " 380,\n",
       " 59,\n",
       " 499,\n",
       " 61,\n",
       " 1175,\n",
       " 310,\n",
       " 497,\n",
       " 604,\n",
       " 34,\n",
       " 134,\n",
       " 14,\n",
       " 73,\n",
       " 124,\n",
       " 102,\n",
       " 551,\n",
       " 296,\n",
       " 252,\n",
       " 124,\n",
       " 173,\n",
       " 24,\n",
       " 37,\n",
       " 444,\n",
       " 139,\n",
       " 138,\n",
       " 435,\n",
       " 202,\n",
       " 258,\n",
       " 625,\n",
       " 175,\n",
       " 278,\n",
       " 156,\n",
       " 833,\n",
       " 53,\n",
       " 47,\n",
       " 229,\n",
       " 223,\n",
       " 396,\n",
       " 337,\n",
       " 617,\n",
       " 213,\n",
       " 295,\n",
       " 180,\n",
       " 60,\n",
       " 108,\n",
       " 396,\n",
       " 530,\n",
       " 91,\n",
       " 28,\n",
       " 135,\n",
       " 308,\n",
       " 0,\n",
       " 127,\n",
       " 24,\n",
       " 64,\n",
       " 101,\n",
       " 70,\n",
       " 50,\n",
       " 196,\n",
       " 517,\n",
       " 289,\n",
       " 210,\n",
       " 417,\n",
       " 54,\n",
       " 307,\n",
       " 403,\n",
       " 429,\n",
       " 144,\n",
       " 69,\n",
       " 207,\n",
       " 67,\n",
       " 268,\n",
       " 28,\n",
       " 256,\n",
       " 124,\n",
       " 5,\n",
       " 541,\n",
       " 25,\n",
       " 516,\n",
       " 681,\n",
       " 65,\n",
       " 256,\n",
       " 10,\n",
       " 141,\n",
       " 46,\n",
       " 773,\n",
       " 254,\n",
       " 22,\n",
       " 230,\n",
       " 294,\n",
       " 618,\n",
       " 472,\n",
       " 575,\n",
       " 132,\n",
       " 265,\n",
       " 253,\n",
       " 163,\n",
       " 816,\n",
       " 309,\n",
       " 51,\n",
       " 193,\n",
       " 68,\n",
       " 50,\n",
       " 243,\n",
       " 602,\n",
       " 140,\n",
       " 218,\n",
       " 428,\n",
       " 184,\n",
       " 55,\n",
       " 646,\n",
       " 1158,\n",
       " 433,\n",
       " 41,\n",
       " 183,\n",
       " 93,\n",
       " 28,\n",
       " 103,\n",
       " 691,\n",
       " 195,\n",
       " 1164,\n",
       " 1238,\n",
       " 37,\n",
       " 51,\n",
       " 85,\n",
       " 478,\n",
       " 127,\n",
       " 484,\n",
       " 511,\n",
       " 608,\n",
       " 187,\n",
       " 327,\n",
       " 599,\n",
       " 266,\n",
       " 398,\n",
       " 589,\n",
       " 284,\n",
       " 81,\n",
       " 41,\n",
       " 210,\n",
       " 171,\n",
       " 124,\n",
       " 200,\n",
       " 467,\n",
       " 31,\n",
       " 265,\n",
       " 132,\n",
       " 272,\n",
       " 121,\n",
       " 477,\n",
       " 30,\n",
       " 65,\n",
       " 178,\n",
       " 63,\n",
       " 309,\n",
       " 49,\n",
       " 221,\n",
       " 240]"
      ]
     },
     "execution_count": 57,
     "metadata": {},
     "output_type": "execute_result"
    }
   ],
   "source": [
    "tri_siz"
   ]
  },
  {
   "cell_type": "code",
   "execution_count": 58,
   "metadata": {},
   "outputs": [
    {
     "data": {
      "text/plain": [
       "270"
      ]
     },
     "execution_count": 58,
     "metadata": {},
     "output_type": "execute_result"
    }
   ],
   "source": [
    "sum(tri_siz)/len(tri_siz)"
   ]
  },
  {
   "cell_type": "code",
   "execution_count": 51,
   "metadata": {},
   "outputs": [
    {
     "data": {
      "text/plain": [
       "[7.215561151504517,\n",
       " 4.2204060554504395,\n",
       " 5.418489933013916,\n",
       " 2.9893620014190674,\n",
       " 8.546360969543457,\n",
       " 5.7488110065460205,\n",
       " 4.45470404624939,\n",
       " 6.622989892959595,\n",
       " 3.8709990978240967,\n",
       " 2.8921267986297607,\n",
       " 6.591385841369629,\n",
       " 4.6728620529174805,\n",
       " 6.335626125335693,\n",
       " 9.295557022094727,\n",
       " 4.55908203125,\n",
       " 7.62446403503418,\n",
       " 3.5169429779052734,\n",
       " 6.293680906295776,\n",
       " 10.96412181854248,\n",
       " 4.8098649978637695,\n",
       " 3.182835102081299,\n",
       " 3.1397199630737305,\n",
       " 8.39178204536438,\n",
       " 9.68613600730896,\n",
       " 7.584567070007324,\n",
       " 4.498008966445923,\n",
       " 3.690070152282715,\n",
       " 6.261623859405518,\n",
       " 5.376927137374878,\n",
       " 7.203438997268677,\n",
       " 1.9794421195983887,\n",
       " 16.27248191833496,\n",
       " 7.546174049377441,\n",
       " 8.780511140823364,\n",
       " 8.473816871643066,\n",
       " 4.489439010620117,\n",
       " 4.124191045761108,\n",
       " 4.5901970863342285,\n",
       " 2.720004081726074,\n",
       " 3.1186890602111816,\n",
       " 2.552304983139038,\n",
       " 9.01206088066101,\n",
       " 8.274058818817139,\n",
       " 5.543776988983154,\n",
       " 5.659477949142456,\n",
       " 4.036626100540161,\n",
       " 1.9944419860839844,\n",
       " 2.3612821102142334,\n",
       " 6.488200902938843,\n",
       " 3.3773629665374756,\n",
       " 4.484884023666382,\n",
       " 6.492934942245483,\n",
       " 6.838220119476318,\n",
       " 6.846333026885986,\n",
       " 8.773409128189087,\n",
       " 3.5031161308288574,\n",
       " 7.044235944747925,\n",
       " 5.423815965652466,\n",
       " 11.766616106033325,\n",
       " 2.348167896270752,\n",
       " 2.078727960586548,\n",
       " 4.194138050079346,\n",
       " 7.249633073806763,\n",
       " 8.793105840682983,\n",
       " 5.632604122161865,\n",
       " 8.578758955001831,\n",
       " 4.916383981704712,\n",
       " 6.119170904159546,\n",
       " 4.841279983520508,\n",
       " 3.168848991394043,\n",
       " 2.941373825073242,\n",
       " 6.15690803527832,\n",
       " 8.026831150054932,\n",
       " 2.374796152114868,\n",
       " 4.646040916442871,\n",
       " 5.933887958526611,\n",
       " 5.2538580894470215,\n",
       " 1.7161259651184082,\n",
       " 3.3774969577789307,\n",
       " 4.101960182189941,\n",
       " 2.778290033340454,\n",
       " 2.817068099975586,\n",
       " 3.564016103744507,\n",
       " 4.029232025146484,\n",
       " 4.561383008956909,\n",
       " 7.795669078826904,\n",
       " 5.319151878356934,\n",
       " 4.092215061187744,\n",
       " 6.693170070648193,\n",
       " 3.8951869010925293,\n",
       " 5.256232976913452,\n",
       " 7.333345174789429,\n",
       " 7.623955965042114,\n",
       " 5.754324913024902,\n",
       " 3.9759790897369385,\n",
       " 5.262737035751343,\n",
       " 5.163032054901123,\n",
       " 4.572497129440308,\n",
       " 1.9409098625183105,\n",
       " 5.4660539627075195,\n",
       " 3.382871150970459,\n",
       " 3.0064918994903564,\n",
       " 10.83037805557251,\n",
       " 3.281609058380127,\n",
       " 7.3909220695495605,\n",
       " 11.772078037261963,\n",
       " 4.571842908859253,\n",
       " 4.7989890575408936,\n",
       " 3.0940439701080322,\n",
       " 5.868134021759033,\n",
       " 2.090433120727539,\n",
       " 11.572020053863525,\n",
       " 4.277622222900391,\n",
       " 5.046428918838501,\n",
       " 4.754690885543823,\n",
       " 4.798281908035278,\n",
       " 9.38642406463623,\n",
       " 7.283541917800903,\n",
       " 11.270631074905396,\n",
       " 3.190416097640991,\n",
       " 4.536475896835327,\n",
       " 8.19218897819519,\n",
       " 3.6638472080230713,\n",
       " 11.368573904037476,\n",
       " 5.348362922668457,\n",
       " 3.486442804336548,\n",
       " 5.856173038482666,\n",
       " 4.052911043167114,\n",
       " 2.2021448612213135,\n",
       " 5.321532964706421,\n",
       " 8.705195903778076,\n",
       " 4.0330328941345215,\n",
       " 6.266552925109863,\n",
       " 7.296304941177368,\n",
       " 3.5405490398406982,\n",
       " 2.3311259746551514,\n",
       " 9.799849033355713,\n",
       " 15.621929168701172,\n",
       " 8.478557109832764,\n",
       " 2.6291511058807373,\n",
       " 4.07914400100708,\n",
       " 3.4229090213775635,\n",
       " 2.160088062286377,\n",
       " 5.316645860671997,\n",
       " 10.820487976074219,\n",
       " 6.356831073760986,\n",
       " 15.019487142562866,\n",
       " 15.998264074325562,\n",
       " 2.6971819400787354,\n",
       " 3.3830080032348633,\n",
       " 2.8662190437316895,\n",
       " 7.07431697845459,\n",
       " 3.461026906967163,\n",
       " 8.201435089111328,\n",
       " 7.966454982757568,\n",
       " 10.681670904159546,\n",
       " 3.68654203414917,\n",
       " 6.133119106292725,\n",
       " 12.831768035888672,\n",
       " 4.710833787918091,\n",
       " 6.481781959533691,\n",
       " 11.559126853942871,\n",
       " 5.750406980514526,\n",
       " 2.5585689544677734,\n",
       " 2.3766000270843506,\n",
       " 5.258945941925049,\n",
       " 3.719290018081665,\n",
       " 4.010828971862793,\n",
       " 4.510546922683716,\n",
       " 8.389825105667114,\n",
       " 3.500833034515381,\n",
       " 5.503076076507568,\n",
       " 3.2394800186157227,\n",
       " 5.322177886962891,\n",
       " 4.288716077804565,\n",
       " 7.0171778202056885,\n",
       " 2.9917550086975098,\n",
       " 2.464945077896118,\n",
       " 4.221631050109863,\n",
       " 3.3276867866516113,\n",
       " 6.361816167831421,\n",
       " 3.041213035583496,\n",
       " 6.233417987823486,\n",
       " 6.0020551681518555]"
      ]
     },
     "execution_count": 51,
     "metadata": {},
     "output_type": "execute_result"
    }
   ],
   "source": [
    "acc_tim"
   ]
  },
  {
   "cell_type": "code",
   "execution_count": 56,
   "metadata": {},
   "outputs": [
    {
     "data": {
      "text/plain": [
       "5.69548506581265"
      ]
     },
     "execution_count": 56,
     "metadata": {},
     "output_type": "execute_result"
    }
   ],
   "source": [
    "sum(acc_tim)/len(acc_tim)"
   ]
  },
  {
   "cell_type": "code",
   "execution_count": 54,
   "metadata": {},
   "outputs": [
    {
     "data": {
      "text/plain": [
       "184"
      ]
     },
     "execution_count": 54,
     "metadata": {},
     "output_type": "execute_result"
    }
   ],
   "source": [
    "len(acc_val)"
   ]
  },
  {
   "cell_type": "code",
   "execution_count": 55,
   "metadata": {},
   "outputs": [
    {
     "data": {
      "text/plain": [
       "91.54025322503584"
      ]
     },
     "execution_count": 55,
     "metadata": {},
     "output_type": "execute_result"
    }
   ],
   "source": [
    "sum(acc_val)/len(acc_val)"
   ]
  },
  {
   "cell_type": "code",
   "execution_count": 159,
   "metadata": {},
   "outputs": [
    {
     "data": {
      "text/plain": [
       "209"
      ]
     },
     "execution_count": 159,
     "metadata": {},
     "output_type": "execute_result"
    }
   ],
   "source": []
  },
  {
   "cell_type": "code",
   "execution_count": 158,
   "metadata": {},
   "outputs": [
    {
     "data": {
      "text/plain": [
       "128"
      ]
     },
     "execution_count": 158,
     "metadata": {},
     "output_type": "execute_result"
    }
   ],
   "source": [
    "acc_val1.count(100)"
   ]
  },
  {
   "cell_type": "code",
   "execution_count": 156,
   "metadata": {},
   "outputs": [
    {
     "data": {
      "text/plain": [
       "98.20075757575758"
      ]
     },
     "execution_count": 156,
     "metadata": {},
     "output_type": "execute_result"
    }
   ],
   "source": [
    "sum(acc_val1)/(len(acc_val1)-acc_val1.count(0))"
   ]
  },
  {
   "cell_type": "code",
   "execution_count": 229,
   "metadata": {},
   "outputs": [],
   "source": [
    "def evaluation_test(loci):\n",
    "    sp = get_sym_test(loci)\n",
    "    pp = get_position_test(loci)\n",
    "    if testdf['Age'][loci]=='Yong': \n",
    "        ap = 0\n",
    "    elif testdf['Age'][loci]=='Elder':\n",
    "        ap = 2\n",
    "    else:\n",
    "        ap = 1\n",
    "    if testdf['Gen'][loci]=='female':\n",
    "        gp = 1\n",
    "    else:\n",
    "        gp = 0\n",
    "    print (sp)\n",
    "    print (pp)\n",
    "    print (ap)\n",
    "    print (gp)\n",
    "    pdfs= pd.DataFrame(columns=['Disease','Probability'])\n",
    "    os.remove('dpbkg1.ttl')\n",
    "    print ('oldttl has been moved')\n",
    "    cpdlgraph=causalr(sp, pp, gp, ap)  "
   ]
  },
  {
   "cell_type": "code",
   "execution_count": 69,
   "metadata": {},
   "outputs": [
    {
     "name": "stdout",
     "output_type": "stream",
     "text": [
      "oldttl has been moved\n"
     ]
    }
   ],
   "source": [
    "pdfs= pd.DataFrame(columns=['Disease','Probability'])\n",
    "os.remove('dpbkg1.ttl')\n",
    "print ('oldttl has been moved')\n",
    "sp = ['Cough','Chest pain','Fever']\n",
    "pp = ['Chest']\n",
    "ap = 0\n",
    "gp = 0\n",
    "cpdlgraph=causalr(sp, pp, gp, ap)\n"
   ]
  },
  {
   "cell_type": "code",
   "execution_count": 70,
   "metadata": {},
   "outputs": [],
   "source": [
    "outputr = ranking_result(pdfs)"
   ]
  },
  {
   "cell_type": "code",
   "execution_count": 71,
   "metadata": {},
   "outputs": [
    {
     "data": {
      "text/plain": [
       "Disease\n",
       "http://ai.symptomchecking.org/condtion/Acute_lymphoblastic_leukaemia_Children                      0.175160\n",
       "http://ai.symptomchecking.org/condtion/Acute_lymphoblastic_leukaemia_Teenagers_and_young_adults    0.175160\n",
       "http://ai.symptomchecking.org/condtion/Acute_lymphoblastic_leukaemia                               0.175160\n",
       "http://ai.symptomchecking.org/condtion/Pneumonia                                                   0.175160\n",
       "http://ai.symptomchecking.org/condtion/Lupus                                                       0.159535\n",
       "http://ai.symptomchecking.org/condtion/Congenital_heart_disease                                    0.152778\n",
       "http://ai.symptomchecking.org/condtion/Chest_pain                                                  0.152778\n",
       "http://ai.symptomchecking.org/condtion/Measles                                                     0.147382\n",
       "http://ai.symptomchecking.org/condtion/Whooping_cough                                              0.147382\n",
       "http://ai.symptomchecking.org/condtion/Bronchitis                                                  0.147382\n",
       "http://ai.symptomchecking.org/condtion/Common_cold                                                 0.147382\n",
       "http://ai.symptomchecking.org/condtion/Croup                                                       0.147382\n",
       "http://ai.symptomchecking.org/condtion/Chronic_obstructive_pulmonary_disease                       0.140625\n",
       "http://ai.symptomchecking.org/condtion/Oesophageal_cancer                                          0.140625\n",
       "http://ai.symptomchecking.org/condtion/Hodgkin_lymphoma_Children                                   0.131757\n",
       "dtype: float64"
      ]
     },
     "execution_count": 71,
     "metadata": {},
     "output_type": "execute_result"
    }
   ],
   "source": [
    "outputr"
   ]
  },
  {
   "cell_type": "code",
   "execution_count": 252,
   "metadata": {},
   "outputs": [
    {
     "name": "stdout",
     "output_type": "stream",
     "text": [
      "[u'Clinical_urine_tests', u'Glucose', u'Adjective', u'Bleeding', u'Blood_test', u'Corticosteroid', u'Medical_imaging', u'Vomiting', u'Aldosterone']\n",
      "[u'Hypothalamus']\n",
      "2\n",
      "1\n",
      "oldttl has been moved\n",
      "[u'Methanol', u'Metabolism', u'Recreational_drug_use', u'Sin', u'Euphoria']\n",
      "[u'Ear']\n",
      "0\n",
      "1\n",
      "oldttl has been moved\n",
      "[u'Histamine', u'Food_allergy', u'Inflammation', u'Epinephrine', u'Corticosteroid', u'Food_intolerance', u'Skin_allergy_test', u'Antihistamine', u'Allergen_immunotherapy', u'Medical_history', u'Immune_system', u'Allergen', u'Foodborne_illness', u'Immunoglobulin_E', u'Pollen', u'Insect_bites_and_stings', u'Allergy']\n",
      "[u'Basophil']\n",
      "1\n",
      "0\n",
      "oldttl has been moved\n"
     ]
    }
   ],
   "source": [
    "evaluation2 = [None] * 3\n",
    "v=0\n",
    "for i in range (10,13):\n",
    "    outputrk = evaluation_test(i)\n",
    "    countg = Graph()\n",
    "    countres = countg.parse('dpbkg1.ttl', format='turtle')\n",
    "    evaluation2[v]=len(countres)\n",
    "    v=v+1"
   ]
  },
  {
   "cell_type": "code",
   "execution_count": 251,
   "metadata": {},
   "outputs": [
    {
     "name": "stdout",
     "output_type": "stream",
     "text": [
      "[u'Clinical_urine_tests', u'Glucose', u'Adjective', u'Bleeding', u'Blood_test', u'Corticosteroid', u'Medical_imaging', u'Vomiting', u'Aldosterone']\n",
      "[u'Hypothalamus']\n",
      "2\n",
      "1\n",
      "oldttl has been moved\n",
      "374\n"
     ]
    }
   ],
   "source": [
    "outputrk = evaluation_test(10)\n",
    "countg1 = Graph()\n",
    "print len(countg1.parse('dpbkg1.ttl', format='turtle'))"
   ]
  },
  {
   "cell_type": "code",
   "execution_count": 253,
   "metadata": {},
   "outputs": [
    {
     "data": {
      "text/plain": [
       "[374, 61, 396]"
      ]
     },
     "execution_count": 253,
     "metadata": {},
     "output_type": "execute_result"
    }
   ],
   "source": [
    "evaluation2"
   ]
  },
  {
   "cell_type": "code",
   "execution_count": 222,
   "metadata": {},
   "outputs": [],
   "source": [
    "evaluation22.append(evaluation2)"
   ]
  },
  {
   "cell_type": "code",
   "execution_count": 223,
   "metadata": {},
   "outputs": [
    {
     "data": {
      "text/plain": [
       "[[587, 657, 989, 1391, 1573],\n",
       " [1696, 1738, 1764, 2225, 2397],\n",
       " [2398, 2417, 2539, 2801, 2853]]"
      ]
     },
     "execution_count": 223,
     "metadata": {},
     "output_type": "execute_result"
    }
   ],
   "source": [
    "evaluation22"
   ]
  },
  {
   "cell_type": "code",
   "execution_count": 99,
   "metadata": {},
   "outputs": [
    {
     "data": {
      "text/plain": [
       "u\"http://ai.symptomchecking.org/condtion/Addison's_disease\""
      ]
     },
     "execution_count": 99,
     "metadata": {},
     "output_type": "execute_result"
    }
   ],
   "source": [
    "testdf['Disease'][10]"
   ]
  },
  {
   "cell_type": "code",
   "execution_count": null,
   "metadata": {},
   "outputs": [],
   "source": []
  }
 ],
 "metadata": {
  "kernelspec": {
   "display_name": "Python 2",
   "language": "python",
   "name": "python2"
  },
  "language_info": {
   "codemirror_mode": {
    "name": "ipython",
    "version": 2
   },
   "file_extension": ".py",
   "mimetype": "text/x-python",
   "name": "python",
   "nbconvert_exporter": "python",
   "pygments_lexer": "ipython2",
   "version": "2.7.15"
  }
 },
 "nbformat": 4,
 "nbformat_minor": 2
}
